{
 "cells": [
  {
   "cell_type": "code",
   "execution_count": 9,
   "metadata": {},
   "outputs": [],
   "source": [
    "def two_spin_HTE(x, order):\n",
    "    if order < 10:\n",
    "        print \"Not implemented!\"\n",
    "        return\n",
    "    \n",
    "    unif_chi = x/4 - x**2/16 - x**3/64 + x**4/768 + (5*x**5)/3072 + (13*x**6)/61440 - (77*x**7)/737280 - (823*x**8)/20643840 + (25*x**9)/16515072 + (11593*x**10)/2972712960\n",
    "    if order >=11:\n",
    "        unif_chi +=(37873*x**11)/59454259200 \n",
    "    if order >= 12:\n",
    "        unif_chi -= (590473*x**12)/2615987404800 \n",
    "    if order >= 13:\n",
    "        unif_chi -= (91741*x**13)/896909967360 \n",
    "    if order >= 14:\n",
    "        unif_chi += (143321*x**14)/1632376140595200 \n",
    "    if order >= 15:\n",
    "        unif_chi += (422870171*x**15)/45706531936665600 \n",
    "    if order >= 16:\n",
    "        unif_chi += (5011276729*x**16)/2742391916199936000 \n",
    "    if order >= 17:\n",
    "        unif_chi -= (94294597*x**17)/199446684814540800 \n",
    "    if order >= 18:\n",
    "        unif_chi -= (14847332219*x**18)/57379277015875584000 \n",
    "    if order >= 19:\n",
    "        unif_chi -= (4738273523*x**19)/548030645784281088000 \n",
    "    if order >= 20:\n",
    "        unif_chi += (44176120892627*x**20)/2040866124900662771712000\n",
    "    return unif_chi"
   ]
  },
  {
   "cell_type": "code",
   "execution_count": 11,
   "metadata": {},
   "outputs": [
    {
     "data": {
      "text/plain": [
       "0.10755645926790279"
      ]
     },
     "execution_count": 11,
     "metadata": {},
     "output_type": "execute_result"
    }
   ],
   "source": [
    "two_spin_HTE(0.5, 15)"
   ]
  },
  {
   "cell_type": "code",
   "execution_count": null,
   "metadata": {
    "collapsed": true
   },
   "outputs": [],
   "source": []
  }
 ],
 "metadata": {
  "kernelspec": {
   "display_name": "Python 2",
   "language": "python",
   "name": "python2"
  },
  "language_info": {
   "codemirror_mode": {
    "name": "ipython",
    "version": 2
   },
   "file_extension": ".py",
   "mimetype": "text/x-python",
   "name": "python",
   "nbconvert_exporter": "python",
   "pygments_lexer": "ipython2",
   "version": "2.7.14"
  }
 },
 "nbformat": 4,
 "nbformat_minor": 2
}
