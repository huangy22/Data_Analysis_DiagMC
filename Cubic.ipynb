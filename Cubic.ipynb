{
 "cells": [
  {
   "cell_type": "code",
   "execution_count": 20,
   "metadata": {
    "collapsed": true
   },
   "outputs": [],
   "source": [
    "import IO\n",
    "import numpy as np\n",
    "import matplotlib.pyplot as plt\n",
    "import file_path\n",
    "import os, matplotlib\n",
    "import IO\n",
    "%matplotlib inline\n",
    "DOWN, UP=0,1"
   ]
  },
  {
   "cell_type": "markdown",
   "metadata": {},
   "source": [
    "### Cubic Lattice"
   ]
  },
  {
   "cell_type": "code",
   "execution_count": 4,
   "metadata": {
    "collapsed": true
   },
   "outputs": [],
   "source": [
    "def HTE_cubic(beta, order):\n",
    "    if order >= 8:\n",
    "        print \"Not implemented!\"\n",
    "        return\n",
    "    \n",
    "    r = 3.0/4.0  #s(s+1)\n",
    "    Coeff=np.zeros(8)\n",
    "    Coeff[0] = r/3\n",
    "    Coeff[1] = -2*r**2.0/3\n",
    "    Coeff[2] = 1.0/18*r**2.0*(-3.0+20*r)\n",
    "    Coeff[3] = -1.0/135*r**2.0*(6.0-91*r+224*r**2.0)\n",
    "    Coeff[4] = 1.0/1080*r**2.0*(-15.0+376*r-1816*r**2.0+2544*r**3.0)\n",
    "    Coeff[5] = -1.0/14175*r**2.0*(72.0-2406*r+18909*r**2.0-47188*r**3.0\n",
    "            +46848.0*r**4.0)\n",
    "    Coeff[6] = 1.0/2041200*r**2.0*(-4347.0+176346*r-1901709*r**2.0\n",
    "            +7300134*r**3.0-11982944.0*r**4.0+9482624*r**5.0)\n",
    "    Coeff[7] = -1.0/61236000*r**2.0*(61560.0-2887056*r+38320749*r**2.0\n",
    "            -202461642*r**3.0+477409712.0*r**4.0-601876480*r**5.0\n",
    "            + 399408640*r**6.0)\n",
    "\n",
    "    Chi = 0.0\n",
    "    for i in range(order):\n",
    "        Chi += 3.0*Coeff[i]*(beta)**(i+1.0)\n",
    "    return Chi"
   ]
  },
  {
   "cell_type": "code",
   "execution_count": 13,
   "metadata": {
    "collapsed": true
   },
   "outputs": [],
   "source": [
    "T_list = np.linspace(0.5, 5.0, 100)\n",
    "HTE_list = np.zeros((5, len(T_list)))\n",
    "for t in range(len(T_list)):\n",
    "    for i in range(4):\n",
    "        order = i + 4\n",
    "        HTE_list[i,t] = HTE_cubic(1.0/T_list[t], order)"
   ]
  },
  {
   "cell_type": "code",
   "execution_count": 15,
   "metadata": {},
   "outputs": [
    {
     "data": {
      "image/png": "[encoded data removed]",
      "text/plain": [
       "<matplotlib.figure.Figure at 0x7f80f0ff0610>"
      ]
     },
     "metadata": {},
     "output_type": "display_data"
    }
   ],
   "source": [
    "plt.figure()\n",
    "for i in range(4):\n",
    "    plt.plot(T_list, HTE_list[i], label=\"Order \"+str(i+4))\n",
    "#y=[0.0937,]*MaxTauBin\n",
    "#plt.plot(TGrid, y, 'k--', label=\"Unbiased MC\")\n",
    "plt.ylim([0.0,0.5])\n",
    "plt.xlim([0.0, 5.1])\n",
    "plt.xlabel(\"T/J\")\n",
    "plt.ylabel(r\"$\\chi(k=0, i\\omega_n=0)$\")\n",
    "plt.legend()\n",
    "plt.title(\"High-Temperature Expansion\")\n",
    "\n",
    "plt.savefig(\"cubic_High-Temperature.pdf\")\n",
    "plt.show()"
   ]
  },
  {
   "cell_type": "code",
   "execution_count": null,
   "metadata": {
    "collapsed": true
   },
   "outputs": [],
   "source": []
  }
 ],
 "metadata": {
  "kernelspec": {
   "display_name": "Python 2",
   "language": "python",
   "name": "python2"
  },
  "language_info": {
   "codemirror_mode": {
    "name": "ipython",
    "version": 2
   },
   "file_extension": ".py",
   "mimetype": "text/x-python",
   "name": "python",
   "nbconvert_exporter": "python",
   "pygments_lexer": "ipython2",
   "version": "2.7.13"
  }
 },
 "nbformat": 4,
 "nbformat_minor": 2
}
