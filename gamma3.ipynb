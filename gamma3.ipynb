{
 "cells": [
  {
   "cell_type": "code",
   "execution_count": 2,
   "metadata": {},
   "outputs": [
    {
     "name": "stdout",
     "output_type": "stream",
     "text": [
      "2.7.13 |Anaconda custom (64-bit)| (default, Dec 20 2016, 23:09:15) \n",
      "[GCC 4.4.7 20120313 (Red Hat 4.4.7-1)]\n"
     ]
    }
   ],
   "source": [
    "import IO\n",
    "import numpy as np\n",
    "import matplotlib.pyplot as plt\n",
    "DOWN, UP=0,1"
   ]
  },
  {
   "cell_type": "code",
   "execution_count": 3,
   "metadata": {
    "collapsed": true
   },
   "outputs": [],
   "source": [
    "Chi={}\n",
    "BKChi={}\n",
    "rGammaG={}\n",
    "iGammaG={}"
   ]
  },
  {
   "cell_type": "code",
   "execution_count": 4,
   "metadata": {
    "collapsed": true
   },
   "outputs": [],
   "source": [
    "d3=IO.LoadBigDict(\"./square/Beta1.0_Order3_Tau32_L8_Weight.hkl\")\n",
    "d4=IO.LoadBigDict(\"./square/Beta1.0_Order4_Tau32_L8_Weight.hkl\")\n",
    "d5=IO.LoadBigDict(\"./square/Beta1.0_Order5_Tau32_L8_Weight.hkl\")"
   ]
  },
  {
   "cell_type": "code",
   "execution_count": 5,
   "metadata": {
    "collapsed": true
   },
   "outputs": [],
   "source": [
    "rGammaG[3]=np.array(d3[\"GammaG\"][\"SmoothT\"])\n",
    "Chi[3]=np.array(d3[\"Chi\"][\"SmoothT\"])[0,0,0,0,:,:]\n",
    "\n",
    "rGammaG[4]=np.array(d4[\"GammaG\"][\"SmoothT\"])\n",
    "Chi[4]=np.array(d4[\"Chi\"][\"SmoothT\"])[0,0,0,0,:,:]\n",
    "\n",
    "rGammaG[5]=np.array(d5[\"GammaG\"][\"SmoothT\"])\n",
    "Chi[5]=np.array(d5[\"Chi\"][\"SmoothT\"])[0,0,0,0,:,:]\n"
   ]
  },
  {
   "cell_type": "code",
   "execution_count": 6,
   "metadata": {
    "collapsed": true
   },
   "outputs": [],
   "source": [
    "del d3,d4,d5"
   ]
  },
  {
   "cell_type": "code",
   "execution_count": 7,
   "metadata": {
    "collapsed": true
   },
   "outputs": [],
   "source": [
    "for i in [3,4,5]:\n",
    "    BKChi[i]=0.5*(rGammaG[i][DOWN,:,:,:].diagonal(axis1=1,axis2=2)-rGammaG[i][UP,:,:,:].diagonal(axis1=1,axis2=2))"
   ]
  },
  {
   "cell_type": "code",
   "execution_count": 8,
   "metadata": {
    "collapsed": true
   },
   "outputs": [],
   "source": [
    "di1=IO.LoadBigDict(\"./square/Beta1.0_Order1_Tau32_L8_Weight.hkl\")\n",
    "di2=IO.LoadBigDict(\"./square/Beta1.0_Order2_Tau32_L8_Weight.hkl\")\n",
    "di4=IO.LoadBigDict(\"./square/Beta1.0_Order4_Tau32_L8_Irreducible_Weight.hkl\")"
   ]
  },
  {
   "cell_type": "code",
   "execution_count": 9,
   "metadata": {
    "collapsed": true
   },
   "outputs": [],
   "source": [
    "iGammaG[1]=np.array(di1[\"GammaG\"][\"SmoothT\"])\n",
    "BKChi[1]=np.array(di1[\"BKChi\"][\"SmoothT\"])[0,0,0,0,:,:]\n",
    "Chi[1]=np.array(di1[\"Chi\"][\"SmoothT\"])[0,0,0,0,:,:]\n",
    "\n",
    "iGammaG[2]=np.array(di2[\"GammaG\"][\"SmoothT\"])\n",
    "BKChi[2]=np.array(di2[\"BKChi\"][\"SmoothT\"])[0,0,0,0,:,:]\n",
    "Chi[2]=np.array(di2[\"Chi\"][\"SmoothT\"])[0,0,0,0,:,:]\n",
    "\n",
    "iGammaG[4]=np.array(di4[\"GammaG\"][\"SmoothT\"])\n",
    "BKChi[4]=np.array(di4[\"BKChi\"][\"SmoothT\"])[0,0,0,0,:,:]\n",
    "Chi[4]=np.array(di4[\"Chi\"][\"SmoothT\"])[0,0,0,0,:,:]\n"
   ]
  },
  {
   "cell_type": "code",
   "execution_count": 10,
   "metadata": {},
   "outputs": [
    {
     "name": "stdout",
     "output_type": "stream",
     "text": [
      "(0.10333775683+8.86443696224e-16j)\n",
      "(0.104672301075-1.78814247501e-07j)\n",
      "(0.100156320282-6.34836942297e-06j)\n",
      "(0.0959835902537+1.7527238693e-05j)\n",
      "(0.0958106839764-3.22060672264e-05j)\n"
     ]
    }
   ],
   "source": [
    "for order in range(1, 6):\n",
    "    print np.average(np.sum(Chi[order],axis=0))"
   ]
  },
  {
   "cell_type": "code",
   "execution_count": 11,
   "metadata": {
    "collapsed": true
   },
   "outputs": [],
   "source": [
    "del di1,di2,di4"
   ]
  },
  {
   "cell_type": "code",
   "execution_count": 12,
   "metadata": {
    "collapsed": true
   },
   "outputs": [],
   "source": [
    "Beta=1.0\n",
    "MaxTauBin=32\n",
    "TGrid=np.array(range(MaxTauBin))*Beta/MaxTauBin"
   ]
  },
  {
   "cell_type": "markdown",
   "metadata": {},
   "source": [
    "# imaginary-time-dependent uniform susceptibility"
   ]
  },
  {
   "cell_type": "code",
   "execution_count": 13,
   "metadata": {
    "collapsed": true
   },
   "outputs": [],
   "source": [
    "for order in BKChi.keys():\n",
    "    BKChi[order].real=BKChi[order].real+BKChi[order].imag\n",
    "    BKChi[order].imag=0.0\n",
    "#    BKChi[order]=(BKChi[order][:,:]+BKChi[order][:,::-1])/2.0\n",
    "    Chi[order].real=Chi[order].real+Chi[order].imag\n",
    "    Chi[order].imag=0.0\n",
    "#    Chi[order]=(Chi[order][:,:]+Chi[order][:,::-1])/2.0"
   ]
  },
  {
   "cell_type": "code",
   "execution_count": 21,
   "metadata": {},
   "outputs": [],
   "source": [
    "f, ax1=plt.subplots(1,1,  sharey=True)\n",
    "color={1:\"g\",2:\"y\",3:\"b\",4:\"r\",5:\"k\"}\n",
    "for order in BKChi.keys():\n",
    "    if order != 5:\n",
    "        ax1.plot(TGrid, np.sum(BKChi[order], axis=0), c=color[order], label=\"CDMC, Order {0}\".format(order))\n",
    "\n",
    "#for order in Chi.keys():\n",
    "#    ax2.plot(TGrid, np.sum(Chi[order], axis=0), c=color[order], label=\"DMC, Order {0}\".format(order))\n",
    "\n",
    "y=[0.0937,]*MaxTauBin\n",
    "ax1.plot(TGrid, y, 'k--', label=\"Unbiased MC\")\n",
    "#ax2.plot(TGrid, y, 'k--', label=\"Unbiased MC\")\n",
    "    \n",
    "ax1.legend()\n",
    "#ax2.legend()\n",
    "#plt.show()\n",
    "plt.savefig(\"CDMC_conservation_2.pdf\")"
   ]
  },
  {
   "cell_type": "code",
   "execution_count": 25,
   "metadata": {},
   "outputs": [],
   "source": [
    "f, ax2=plt.subplots(1,1,  sharey=True)\n",
    "color={1:\"g\",2:\"y\",3:\"b\",4:\"r\",5:\"k\"}\n",
    "#for order in BKChi.keys():\n",
    "#    ax1.plot(TGrid, np.sum(BKChi[order], axis=0), c=color[order], label=\"CDMC, Order {0}\".format(order))\n",
    "\n",
    "for order in Chi.keys():\n",
    "    if order!=5:\n",
    "        ax2.plot(TGrid, np.sum(Chi[order], axis=0), c=color[order], label=\"DiagMC, Order {0}\".format(order))\n",
    "\n",
    "y=[0.0937,]*MaxTauBin\n",
    "#ax1.plot(TGrid, y, 'k--', label=\"Unbiased MC\")\n",
    "ax2.plot(TGrid, y, 'k--', label=\"Unbiased MC\")\n",
    "    \n",
    "#ax1.legend()\n",
    "ax2.legend()\n",
    "#plt.show()\n",
    "plt.savefig(\"DiagMC_conservation_2.pdf\")"
   ]
  },
  {
   "cell_type": "markdown",
   "metadata": {},
   "source": [
    "# Check for covergence"
   ]
  },
  {
   "cell_type": "code",
   "execution_count": 13,
   "metadata": {
    "collapsed": true
   },
   "outputs": [],
   "source": [
    "BKChiAvg=[]\n",
    "for order in BKChi.keys():\n",
    "    chit=np.sum(BKChi[order],axis=0)\n",
    "    avg=np.average(chit)\n",
    "    err=np.max(chit)-np.min(chit)\n",
    "    BKChiAvg.append([order, avg.real, err.real])\n",
    "BKChiAvg=np.array(BKChiAvg)\n",
    "\n",
    "ChiAvg=[]\n",
    "ChiMax=[]\n",
    "ChiMin=[]\n",
    "for order in Chi.keys():\n",
    "    chit=np.sum(Chi[order],axis=0)\n",
    "    avg=np.average(chit)\n",
    "    err=np.max(chit)-np.min(chit)\n",
    "    ChiAvg.append([order, avg, 0])\n",
    "    ChiMax.append([order, np.max(chit).real, 0])\n",
    "    ChiMin.append([order, np.min(chit).real, 0])\n",
    "ChiAvg=np.array(ChiAvg)\n",
    "ChiMax=np.array(ChiMax)\n",
    "ChiMin=np.array(ChiMin)"
   ]
  },
  {
   "cell_type": "code",
   "execution_count": 14,
   "metadata": {},
   "outputs": [
    {
     "data": {
      "image/png": "[encoded data removed]",
      "text/plain": [
       "<matplotlib.figure.Figure at 0x7f94312b7b10>"
      ]
     },
     "metadata": {},
     "output_type": "display_data"
    }
   ],
   "source": [
    "plt.figure()\n",
    "#plt.plot(1.0/BKChiAvg[:,0], BKChiAvg[:,1])\n",
    "plt.errorbar(1.0/BKChiAvg[:,0], BKChiAvg[:,1], yerr=BKChiAvg[:,2], c=\"k\", label=\"CDMC\")\n",
    "plt.errorbar(1.0/ChiAvg[:,0], ChiAvg[:,1], yerr=ChiAvg[:,2], label=\"DMC, Average\")\n",
    "plt.errorbar(1.0/ChiMax[:,0], ChiMax[:,1], yerr=ChiMax[:,2], label=\"DMC, Max\")\n",
    "plt.errorbar(1.0/ChiMin[:,0], ChiMin[:,1], yerr=ChiMin[:,2], label=\"DMC, Min\")\n",
    "y=[0.0937,]*MaxTauBin\n",
    "plt.plot(TGrid, y, 'k--', label=\"Unbiased MC\")\n",
    "plt.ylim([0.09,0.135])\n",
    "plt.xlim([0,1])\n",
    "plt.legend()\n",
    "plt.show()"
   ]
  },
  {
   "cell_type": "markdown",
   "metadata": {},
   "source": [
    "# The Shape of GammaG"
   ]
  },
  {
   "cell_type": "code",
   "execution_count": 15,
   "metadata": {},
   "outputs": [
    {
     "data": {
      "image/png": "[encoded data removed]",
      "text/plain": [
       "<matplotlib.figure.Figure at 0x7fbe8e7284d0>"
      ]
     },
     "metadata": {},
     "output_type": "display_data"
    }
   ],
   "source": [
    "from mpl_toolkits.mplot3d import Axes3D\n",
    "from matplotlib import cm\n",
    "from matplotlib.ticker import LinearLocator, FormatStrFormatter\n",
    "\n",
    "X, Y = np.meshgrid(TGrid, TGrid)\n",
    "fig = plt.figure()\n",
    "ax = fig.add_subplot(111, projection='3d')\n",
    "# Plot the surface.\n",
    "surf = ax.plot_surface(X, Y, np.sum(iGammaG[4][0,:,:,:],axis=0).real, cmap=cm.coolwarm, linewidth=0, antialiased=False)\n",
    "\n",
    "# Add a color bar which maps values to colors.\n",
    "fig.colorbar(surf, shrink=0.5, aspect=5)\n",
    "ax.view_init(30, -100)\n",
    "plt.show()\n",
    "\n",
    "#f, (ax1,ax2)=plt.subplots(1,2,sharey=True)\n",
    "#ax1.imshow(rGammaG[5][0,0,:,:].real)\n",
    "#f.colorbar(im, ax=ax1)\n",
    "#ax2.imshow(rGammaG[5][0,0,:,:].imag)\n",
    "#f.colorbar(im, ax=ax2)\n",
    "#plt.show()"
   ]
  },
  {
   "cell_type": "code",
   "execution_count": 18,
   "metadata": {},
   "outputs": [
    {
     "data": {
      "text/plain": [
       "<matplotlib.figure.Figure at 0x7f942f0b33d0>"
      ]
     },
     "metadata": {},
     "output_type": "display_data"
    },
    {
     "data": {
      "image/png": "[encoded data removed]",
      "text/plain": [
       "<matplotlib.figure.Figure at 0x7f942f0db550>"
      ]
     },
     "metadata": {},
     "output_type": "display_data"
    }
   ],
   "source": [
    "Order=4\n",
    "plt.figure()\n",
    "plt.plot(TGrid, 0.5*np.sum(rGammaG[4][DOWN,:,16,:]-rGammaG[4][UP,:,16,:],axis=0).real)\n",
    "#plt.plot(TGrid, 0.5*np.sum(rGammaG[4][DOWN,:,16,:]-rGammaG[4][UP,:,16,:],axis=0).real)\n",
    "\n",
    "#plt.xlim([0.4,0.6])\n",
    "#plt.ylim([0.095,0.105])\n",
    "plt.show()"
   ]
  },
  {
   "cell_type": "code",
   "execution_count": 166,
   "metadata": {},
   "outputs": [
    {
     "data": {
      "text/plain": [
       "array([ 0.09691592+0.j,  0.09689821+0.j,  0.09690480+0.j,  0.09688369+0.j,\n",
       "        0.09685229+0.j,  0.09681536+0.j,  0.09675525+0.j,  0.09671859+0.j,\n",
       "        0.09674901+0.j,  0.09675553+0.j,  0.09674395+0.j,  0.09675305+0.j,\n",
       "        0.09677740+0.j,  0.09677147+0.j,  0.09677955+0.j,  0.09683805+0.j,\n",
       "        0.09688390+0.j,  0.09687823+0.j,  0.09687711+0.j,  0.09683405+0.j,\n",
       "        0.09679137+0.j,  0.09671618+0.j,  0.09670381+0.j,  0.09676344+0.j,\n",
       "        0.09675246+0.j,  0.09669744+0.j,  0.09669749+0.j,  0.09670175+0.j,\n",
       "        0.09670935+0.j,  0.09674316+0.j,  0.09683251+0.j,  0.09692503+0.j])"
      ]
     },
     "execution_count": 166,
     "metadata": {},
     "output_type": "execute_result"
    }
   ],
   "source": [
    "np.sum(BKChi[4], axis=0)"
   ]
  },
  {
   "cell_type": "code",
   "execution_count": 154,
   "metadata": {},
   "outputs": [
    {
     "data": {
      "text/plain": [
       "array([ 0.09684449 +1.11998543e-04j,  0.09689925 +1.15846371e-04j,\n",
       "        0.09689379 +1.20089260e-04j,  0.09688111 +8.85988097e-05j,\n",
       "        0.09688762 +6.17965022e-05j,  0.09687839 +1.00139020e-04j,\n",
       "        0.09687029 +1.28393782e-04j,  0.09687586 +7.77987869e-05j,\n",
       "        0.09689233 -1.96938669e-05j,  0.09687046 -5.47889433e-05j,\n",
       "        0.09688797 -7.07380747e-05j,  0.09687950 -9.62216052e-05j,\n",
       "        0.09680880 -6.01744234e-05j,  0.09679451 -6.87114149e-05j,\n",
       "        0.09681304 -1.16353830e-04j,  0.09681669 -1.64872810e-04j,\n",
       "        0.09682854 -1.29005076e-04j,  0.09685926 -8.96659585e-05j,\n",
       "        0.09685618 -9.86597140e-05j,  0.09681062 -1.23716414e-04j,\n",
       "        0.09676934 -1.55875960e-04j,  0.09676612 -1.36060793e-04j,\n",
       "        0.09680573 -9.96254401e-05j,  0.09686181 -5.99271056e-05j,\n",
       "        0.09686944 -2.31200318e-05j,  0.09681984 +1.78450827e-05j,\n",
       "        0.09675320 +3.88344068e-05j,  0.09670130 +5.86371218e-05j,\n",
       "        0.09669757 +8.28430526e-05j,  0.09670919 +8.47991469e-05j,\n",
       "        0.09676094 +9.28223764e-05j,  0.09681142 +9.48642823e-05j])"
      ]
     },
     "execution_count": 154,
     "metadata": {},
     "output_type": "execute_result"
    }
   ],
   "source": [
    "0.5*np.sum(rGammaG[4][DOWN,:,:,:]-rGammaG[4][UP,:,:,:],axis=0).diagonal()"
   ]
  },
  {
   "cell_type": "code",
   "execution_count": null,
   "metadata": {
    "collapsed": true
   },
   "outputs": [],
   "source": []
  }
 ],
 "metadata": {
  "kernelspec": {
   "display_name": "Python 2",
   "language": "python",
   "name": "python2"
  },
  "language_info": {
   "codemirror_mode": {
    "name": "ipython",
    "version": 2
   },
   "file_extension": ".py",
   "mimetype": "text/x-python",
   "name": "python",
   "nbconvert_exporter": "python",
   "pygments_lexer": "ipython2",
   "version": "2.7.13"
  }
 },
 "nbformat": 4,
 "nbformat_minor": 2
}
